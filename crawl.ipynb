{
 "cells": [
  {
   "cell_type": "code",
   "execution_count": 1,
   "metadata": {},
   "outputs": [
    {
     "name": "stderr",
     "output_type": "stream",
     "text": [
      "/home/quanganh/miniconda3/envs/chatbot/lib/python3.9/site-packages/urllib3/connectionpool.py:1045: InsecureRequestWarning: Unverified HTTPS request is being made to host 'careers.rikai.technology'. Adding certificate verification is strongly advised. See: https://urllib3.readthedocs.io/en/1.26.x/advanced-usage.html#ssl-warnings\n",
      "  warnings.warn(\n"
     ]
    },
    {
     "data": {
      "text/plain": [
       "{'TESTER': {'num': ' Số lượng: 03',\n",
       "  'link_jd': 'https://careers.rikai.technology/tester-vl5jixgom0'},\n",
       " 'SALESFORCE CONSULTANT': {'num': ' Số lượng: 01',\n",
       "  'link_jd': 'https://careers.rikai.technology/salesforce-consultant'},\n",
       " 'C#.NET DEVELOPER': {'num': ' Số lượng: 01',\n",
       "  'link_jd': 'https://careers.rikai.technology/c-net-developer'},\n",
       " 'Ruby On Rails Developer': {'num': ' Số lượng: 02',\n",
       "  'link_jd': 'https://careers.rikai.technology/ruby-on-rails-iyosp8ka5z'},\n",
       " 'PROJECT MANAGER': {'num': ' Số lượng: 02',\n",
       "  'link_jd': 'https://careers.rikai.technology/project-manager'}}"
      ]
     },
     "execution_count": 1,
     "metadata": {},
     "output_type": "execute_result"
    }
   ],
   "source": [
    "from bs4 import BeautifulSoup\n",
    "\n",
    "import requests\n",
    "\n",
    "url = 'https://careers.rikai.technology/tuyen-dung'\n",
    "# page = urllib.request.urlopen(url, context=context)\n",
    "page = requests.get(url, verify=False)\n",
    "soup = BeautifulSoup(page.text, 'html.parser')\n",
    "all_jobs = {}\n",
    "for n in range(len(soup.find_all(class_='page5sl-text',))):\n",
    "    jobs = soup.find_all(class_='page5sl-text',)[n]\n",
    "    name_job = jobs.find_all('a', href=True)[0].decode_contents()\n",
    "    link_jd = jobs.find_all('a', href=True)[0]['href']\n",
    "    num = jobs.find_all(class_=\"xanh\")[0].decode_contents()\n",
    "    all_jobs[name_job] = {'num':num, 'link_jd':link_jd}\n",
    "all_jobs"
   ]
  },
  {
   "cell_type": "code",
   "execution_count": 2,
   "metadata": {},
   "outputs": [
    {
     "data": {
      "text/plain": [
       "<div class=\"page5sl-text\">\n",
       "<h4><a href=\"https://careers.rikai.technology/project-manager\">PROJECT MANAGER</a> </h4>\n",
       "<p class=\"xanh\"> Số lượng: 02</p>\n",
       "<div class=\"page5sl-comment\">\n",
       "<ul>\n",
       "<li>Có kiến thức về các kỹ năng mềm là lợi thế (kỹ năng comunication, kỹ năng thuyết trình....);</li>\n",
       "<li>Có hiểu biết chuyên sâu về 1 trong các ngôn ngữ: PHP, .NET, Java, Python là lợi thế;</li>\n",
       "<li>Có tinh thần trách nhiệm cao trong công việc;</li>\n",
       "<li>Có khả năng làm việc độc lập/khả năng teamwork tốt.</li>\n",
       "</ul> </div>\n",
       "<a class=\"link-p5\" href=\"https://careers.rikai.technology/project-manager\"><span>Xem chi tiết</span></a>\n",
       "</div>"
      ]
     },
     "execution_count": 2,
     "metadata": {},
     "output_type": "execute_result"
    }
   ],
   "source": [
    "jobs"
   ]
  },
  {
   "cell_type": "code",
   "execution_count": null,
   "metadata": {},
   "outputs": [],
   "source": []
  }
 ],
 "metadata": {
  "kernelspec": {
   "display_name": "Python 3.9.0 ('chatbot')",
   "language": "python",
   "name": "python3"
  },
  "language_info": {
   "codemirror_mode": {
    "name": "ipython",
    "version": 3
   },
   "file_extension": ".py",
   "mimetype": "text/x-python",
   "name": "python",
   "nbconvert_exporter": "python",
   "pygments_lexer": "ipython3",
   "version": "3.9.0"
  },
  "orig_nbformat": 4,
  "vscode": {
   "interpreter": {
    "hash": "91b9ce932fee8527a03b96e0916d9712dd2ec53f9e43af1f5acd52142bf98e11"
   }
  }
 },
 "nbformat": 4,
 "nbformat_minor": 2
}
