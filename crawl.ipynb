{
 "cells": [
  {
   "cell_type": "code",
   "execution_count": 1,
   "metadata": {},
   "outputs": [
    {
     "name": "stderr",
     "output_type": "stream",
     "text": [
      "/home/quanganh/miniconda3/envs/chatbot/lib/python3.9/site-packages/urllib3/connectionpool.py:1045: InsecureRequestWarning: Unverified HTTPS request is being made to host 'careers.rikai.technology'. Adding certificate verification is strongly advised. See: https://urllib3.readthedocs.io/en/1.26.x/advanced-usage.html#ssl-warnings\n",
      "  warnings.warn(\n"
     ]
    },
    {
     "data": {
      "text/plain": [
       "{'TESTER': {'num': ' Số lượng: 03',\n",
       "  'link_jd': 'https://careers.rikai.technology/tester-vl5jixgom0'},\n",
       " 'SALESFORCE CONSULTANT': {'num': ' Số lượng: 01',\n",
       "  'link_jd': 'https://careers.rikai.technology/salesforce-consultant'},\n",
       " 'C#.NET DEVELOPER': {'num': ' Số lượng: 01',\n",
       "  'link_jd': 'https://careers.rikai.technology/c-net-developer'},\n",
       " 'Ruby On Rails Developer': {'num': ' Số lượng: 02',\n",
       "  'link_jd': 'https://careers.rikai.technology/ruby-on-rails-iyosp8ka5z'},\n",
       " 'PROJECT MANAGER': {'num': ' Số lượng: 02',\n",
       "  'link_jd': 'https://careers.rikai.technology/project-manager'}}"
      ]
     },
     "execution_count": 1,
     "metadata": {},
     "output_type": "execute_result"
    }
   ],
   "source": [
    "from bs4 import BeautifulSoup\n",
    "\n",
    "import requests\n",
    "\n",
    "url = 'https://careers.rikai.technology/tuyen-dung'\n",
    "# page = urllib.request.urlopen(url, context=context)\n",
    "page = requests.get(url, verify=False)\n",
    "soup = BeautifulSoup(page.text, 'html.parser')\n",
    "all_jobs = {}\n",
    "for n in range(len(soup.find_all(class_='page5sl-text',))):\n",
    "    jobs = soup.find_all(class_='page5sl-text',)[n]\n",
    "    name_job = jobs.find_all('a', href=True)[0].decode_contents()\n",
    "    link_jd = jobs.find_all('a', href=True)[0]['href']\n",
    "    num = jobs.find_all(class_=\"xanh\")[0].decode_contents()\n",
    "    all_jobs[name_job] = {'num':num, 'link_jd':link_jd}\n",
    "all_jobs"
   ]
  },
  {
   "cell_type": "code",
   "execution_count": 2,
   "metadata": {},
   "outputs": [
    {
     "data": {
      "text/plain": [
       "<div class=\"page5sl-text\">\n",
       "<h4><a href=\"https://careers.rikai.technology/project-manager\">PROJECT MANAGER</a> </h4>\n",
       "<p class=\"xanh\"> Số lượng: 02</p>\n",
       "<div class=\"page5sl-comment\">\n",
       "<ul>\n",
       "<li>Có kiến thức về các kỹ năng mềm là lợi thế (kỹ năng comunication, kỹ năng thuyết trình....);</li>\n",
       "<li>Có hiểu biết chuyên sâu về 1 trong các ngôn ngữ: PHP, .NET, Java, Python là lợi thế;</li>\n",
       "<li>Có tinh thần trách nhiệm cao trong công việc;</li>\n",
       "<li>Có khả năng làm việc độc lập/khả năng teamwork tốt.</li>\n",
       "</ul> </div>\n",
       "<a class=\"link-p5\" href=\"https://careers.rikai.technology/project-manager\"><span>Xem chi tiết</span></a>\n",
       "</div>"
      ]
     },
     "execution_count": 2,
     "metadata": {},
     "output_type": "execute_result"
    }
   ],
   "source": [
    "jobs"
   ]
  },
  {
   "cell_type": "code",
   "execution_count": 3,
   "metadata": {},
   "outputs": [
    {
     "name": "stderr",
     "output_type": "stream",
     "text": [
      "/home/quanganh/miniconda3/envs/chatbot/lib/python3.9/site-packages/urllib3/connectionpool.py:1045: InsecureRequestWarning: Unverified HTTPS request is being made to host 'careers.rikai.technology'. Adding certificate verification is strongly advised. See: https://urllib3.readthedocs.io/en/1.26.x/advanced-usage.html#ssl-warnings\n",
      "  warnings.warn(\n"
     ]
    },
    {
     "name": "stdout",
     "output_type": "stream",
     "text": [
      "28/04/2022 OFFICE TOUR 2022 https://careers.rikai.technology/office-tour-2022\n",
      "11/10/2022 Rikai Company Trip 2022 https://careers.rikai.technology/rikai-company-trip-2022\n",
      "13/09/2022 Gala Dinner - Kỷ niệm 5 năm thành lập Rikai https://careers.rikai.technology/gala-dinner-ky-niem-5-nam-thanh-lap-rikai\n",
      "15/06/2022 [Hà Nội] Chính thức khai trương Rikai Mind https://careers.rikai.technology/ha-noi-chinh-thuc-khai-truong-rikai-mind\n",
      "05/05/2022 ĐIỂM TIN THÁNG 4 https://careers.rikai.technology/diem-tin-thang-4\n",
      "28/04/2022 OFFICE TOUR 2022 https://careers.rikai.technology/office-tour-2022\n",
      "30/03/2022 ĐIỂM TIN THÁNG 3 https://careers.rikai.technology/diem-tin-thang-3\n",
      "23/03/2022 Ngày hội việc làm - DUT Job Fair 2022 https://careers.rikai.technology/ngay-hoi-viec-lam-dut-job-fair-2022\n",
      "07/03/2022 ĐIỂM TIN THÁNG 2 https://careers.rikai.technology/rikai-japan-bo-nhiem-nhan-su-moi\n",
      "22/02/2022 Học bổng Rikai Technology 2022 https://careers.rikai.technology/hoc-bong-rikai-technology-2022\n",
      "18/02/2022 KHAI XUÂN RỘN RÀNG - NĂM MỚI AN KHANG https://careers.rikai.technology/khai-xu-n-ron-rang-nam-moi-an-khang\n",
      "05/01/2022 Khẩn trương xây dựng kế hoạch chiến lược năm 2022 https://careers.rikai.technology/khan-truong-xay-dung-ke-hoach-chien-luoc-nam-2022\n",
      "05/01/2022 TẾT SUM VẦY TRONG VÒNG TAY CỦA RIKAIERS JAPAN https://careers.rikai.technology/tet-sum-vay-trong-vong-tay-cua-rikaiers-japan\n",
      "05/01/2022 CẢM XÚC ĐONG ĐẦY TRONG NGÀY KẾT THÚC KHÓA HỌC  https://careers.rikai.technology/cam-xuc-dong-day-trong-ngay-ket-thuc-khoa-hoc-reep-2021\n",
      "15/11/2021 BẢO MẬT THÔNG TIN: CHUYỆN SỐNG CÒN CỦA DOANH NGHIỆP https://careers.rikai.technology/bao-mat-thong-tin-chuyen-song-con-cua-doanh-nghiep\n",
      "28/01/2021 THỰC TẬP CÓ GÌ VUI? https://careers.rikai.technology/thuc-tap-co-gi-vui\n",
      "27/01/2021 NGÀY CỦA CHỊ EM RIKAI https://careers.rikai.technology/ngay-cua-chi-em-rikai\n",
      "27/01/2021 VI VU THÁI LAN https://careers.rikai.technology/vi-vu-thai-lan\n",
      "27/01/2021 HAPPY HOUR https://careers.rikai.technology/happy-hour\n",
      "27/01/2021 HỌC, HỌC NỮA, HỌC MÃI https://careers.rikai.technology/hoc-hoc-nua-hoc-mai\n",
      "27/01/2021 NHÂN VIÊN XUẤT SẮC https://careers.rikai.technology/nhan-vien-xuat-sac\n"
     ]
    },
    {
     "data": {
      "text/plain": [
       "{}"
      ]
     },
     "execution_count": 3,
     "metadata": {},
     "output_type": "execute_result"
    }
   ],
   "source": [
    "\n",
    "\n",
    "url = 'https://careers.rikai.technology/tin-tuc'\n",
    "# page = urllib.request.urlopen(url, context=context)\n",
    "page = requests.get(url, verify=False)\n",
    "soup = BeautifulSoup(page.text, 'html.parser')\n",
    "all_news = {}\n",
    "\n",
    "list_news = soup.find_all(class_='blog-hot__item_text')\n",
    "all_news = {}\n",
    "for n in range(len(list_news)):\n",
    "    news = list_news[n]\n",
    "    news\n",
    "    date = news.find(class_='time-view',).decode_contents()\n",
    "    date\n",
    "    title = news.find('a', href=True)['title']\n",
    "    link = news.find('a', href=True)['href']\n",
    "    print(date, title, link)\n",
    "all_jobs\n",
    "\n"
   ]
  }
 ],
 "metadata": {
  "kernelspec": {
   "display_name": "Python 3.9.0 ('chatbot')",
   "language": "python",
   "name": "python3"
  },
  "language_info": {
   "codemirror_mode": {
    "name": "ipython",
    "version": 3
   },
   "file_extension": ".py",
   "mimetype": "text/x-python",
   "name": "python",
   "nbconvert_exporter": "python",
   "pygments_lexer": "ipython3",
   "version": "3.9.0"
  },
  "orig_nbformat": 4,
  "vscode": {
   "interpreter": {
    "hash": "91b9ce932fee8527a03b96e0916d9712dd2ec53f9e43af1f5acd52142bf98e11"
   }
  }
 },
 "nbformat": 4,
 "nbformat_minor": 2
}
